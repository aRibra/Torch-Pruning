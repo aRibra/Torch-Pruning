{
 "cells": [
  {
   "cell_type": "code",
   "execution_count": null,
   "metadata": {},
   "outputs": [],
   "source": [
    "import os\n",
    "import torch\n",
    "import cv2\n",
    "import glob\n",
    "\n",
    "from torchvision.transforms import Normalize, Compose, ToTensor, CenterCrop"
   ]
  },
  {
   "cell_type": "code",
   "execution_count": null,
   "metadata": {},
   "outputs": [],
   "source": [
    "pruned_swin_t_model_flat = \"/mnt/disks/ext/swin_t_checkpoints/swin_t_backbone_Pruned_25.pth\"\n",
    "pruned_weights = \"/mnt/disks/ext/exps_swin_t/pruned_swin_t_tiny_in200/pruned_swin_t_tiny_in200/pruned_swin_t_tiny_in200/best_accuracy_top1_epoch_10.pth\"\n",
    "\n",
    "model = torch.load(pruned_swin_t_model_flat)\n",
    "model.zero_grad()\n",
    "model = model.eval()\n",
    "\n",
    "weights = torch.load(pruned_weights)\n",
    "\n",
    "model.load_state_dict(weights['state_dict'])"
   ]
  },
  {
   "cell_type": "code",
   "execution_count": null,
   "metadata": {},
   "outputs": [],
   "source": [
    "cat = \"n03028079\"\n",
    "imps = glob.glob(f\"/mnt/disks/ext/data/imagenet/imagenette2-320/val/{cat}/*.JPEG\")"
   ]
  },
  {
   "cell_type": "code",
   "execution_count": null,
   "metadata": {},
   "outputs": [],
   "source": [
    "! ls -l /mnt/disks/ext/data/imagenet/imagenette2-320/val/"
   ]
  },
  {
   "cell_type": "code",
   "execution_count": null,
   "metadata": {},
   "outputs": [],
   "source": [
    "transform = Compose([\n",
    "        ToTensor(),\n",
    "        CenterCrop(224),\n",
    "        Normalize(\n",
    "            mean=[123.675, 116.28, 103.53], \n",
    "            std=[58.395, 57.12, 57.375]\n",
    "        )\n",
    "])\n",
    "\n",
    "\n",
    "def eval():\n",
    "    permute = [2, 1, 0]\n",
    "    for im in imps:\n",
    "        x = cv2.imread(im)\n",
    "        x = x[:, permute]\n",
    "        x = transform(x)[None, ...]\n",
    "        out = model(x)\n",
    "        cat = torch.argmax(out)\n",
    "        print(cat)\n",
    "        # break\n",
    "\n",
    "eval()"
   ]
  },
  {
   "cell_type": "code",
   "execution_count": null,
   "metadata": {},
   "outputs": [],
   "source": [
    "x = transform(cv2.imread(imps[0]))"
   ]
  },
  {
   "cell_type": "code",
   "execution_count": null,
   "metadata": {},
   "outputs": [],
   "source": [
    "x"
   ]
  }
 ],
 "metadata": {
  "kernelspec": {
   "display_name": "base",
   "language": "python",
   "name": "python3"
  },
  "language_info": {
   "codemirror_mode": {
    "name": "ipython",
    "version": 3
   },
   "file_extension": ".py",
   "mimetype": "text/x-python",
   "name": "python",
   "nbconvert_exporter": "python",
   "pygments_lexer": "ipython3",
   "version": "3.8.18"
  }
 },
 "nbformat": 4,
 "nbformat_minor": 2
}
